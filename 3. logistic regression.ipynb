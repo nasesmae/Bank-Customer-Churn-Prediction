{
 "cells": [
  {
   "cell_type": "markdown",
   "metadata": {},
   "source": [
    "# Logistic regression model"
   ]
  },
  {
   "cell_type": "code",
   "execution_count": 2,
   "metadata": {},
   "outputs": [],
   "source": [
    "import pandas as pd\n",
    "import numpy as np\n",
    "from sklearn.model_selection import train_test_split\n",
    "from sklearn.linear_model import LogisticRegression\n",
    "from sklearn.metrics import classification_report, confusion_matrix, accuracy_score\n",
    "import matplotlib.pyplot as plt\n",
    "from sklearn.metrics import roc_curve, auc\n"
   ]
  },
  {
   "cell_type": "code",
   "execution_count": 3,
   "metadata": {},
   "outputs": [],
   "source": [
    "df = pd.read_csv(r'data\\BankChurners_preprocessed.csv')"
   ]
  },
  {
   "cell_type": "code",
   "execution_count": 4,
   "metadata": {},
   "outputs": [
    {
     "name": "stdout",
     "output_type": "stream",
     "text": [
      "<class 'pandas.core.frame.DataFrame'>\n",
      "RangeIndex: 10127 entries, 0 to 10126\n",
      "Data columns (total 23 columns):\n",
      " #   Column                    Non-Null Count  Dtype  \n",
      "---  ------                    --------------  -----  \n",
      " 0   CLIENTNUM                 10127 non-null  int64  \n",
      " 1   Attrition_Flag            10127 non-null  int64  \n",
      " 2   Customer_Age              10127 non-null  int64  \n",
      " 3   Gender                    10127 non-null  int64  \n",
      " 4   Dependent_count           10127 non-null  int64  \n",
      " 5   Education_Level           10127 non-null  int64  \n",
      " 6   Income_Category           10127 non-null  int64  \n",
      " 7   Card_Category             10127 non-null  int64  \n",
      " 8   Months_on_book            10127 non-null  int64  \n",
      " 9   Total_Relationship_Count  10127 non-null  int64  \n",
      " 10  Months_Inactive_12_mon    10127 non-null  int64  \n",
      " 11  Contacts_Count_12_mon     10127 non-null  int64  \n",
      " 12  Credit_Limit              10127 non-null  float64\n",
      " 13  Total_Revolving_Bal       10127 non-null  int64  \n",
      " 14  Avg_Open_To_Buy           10127 non-null  float64\n",
      " 15  Total_Amt_Chng_Q4_Q1      10127 non-null  float64\n",
      " 16  Total_Trans_Amt           10127 non-null  int64  \n",
      " 17  Total_Trans_Ct            10127 non-null  int64  \n",
      " 18  Total_Ct_Chng_Q4_Q1       10127 non-null  float64\n",
      " 19  Avg_Utilization_Ratio     10127 non-null  float64\n",
      " 20  Marital_Status_Married    10127 non-null  int64  \n",
      " 21  Marital_Status_Single     10127 non-null  int64  \n",
      " 22  Marital_Status_Unknown    10127 non-null  int64  \n",
      "dtypes: float64(5), int64(18)\n",
      "memory usage: 1.8 MB\n"
     ]
    },
    {
     "data": {
      "text/plain": [
       "(   CLIENTNUM  Attrition_Flag  Customer_Age  Gender  Dependent_count  \\\n",
       " 0  768805383               1            45       1                3   \n",
       " 1  818770008               1            49       0                5   \n",
       " 2  713982108               1            51       1                3   \n",
       " 3  769911858               1            40       0                4   \n",
       " 4  709106358               1            40       1                3   \n",
       " \n",
       "    Education_Level  Income_Category  Card_Category  Months_on_book  \\\n",
       " 0                2                3              0              39   \n",
       " 1                4                1              0              44   \n",
       " 2                4                4              0              36   \n",
       " 3                2                1              0              34   \n",
       " 4                1                3              0              21   \n",
       " \n",
       "    Total_Relationship_Count  ...  Total_Revolving_Bal  Avg_Open_To_Buy  \\\n",
       " 0                         5  ...                  777          11914.0   \n",
       " 1                         6  ...                  864           7392.0   \n",
       " 2                         4  ...                    0           3418.0   \n",
       " 3                         3  ...                 2517            796.0   \n",
       " 4                         5  ...                    0           4716.0   \n",
       " \n",
       "    Total_Amt_Chng_Q4_Q1  Total_Trans_Amt  Total_Trans_Ct  Total_Ct_Chng_Q4_Q1  \\\n",
       " 0                 1.335             1144              42                1.625   \n",
       " 1                 1.541             1291              33                3.714   \n",
       " 2                 2.594             1887              20                2.333   \n",
       " 3                 1.405             1171              20                2.333   \n",
       " 4                 2.175              816              28                2.500   \n",
       " \n",
       "    Avg_Utilization_Ratio  Marital_Status_Married  Marital_Status_Single  \\\n",
       " 0                  0.061                       1                      0   \n",
       " 1                  0.105                       0                      1   \n",
       " 2                  0.000                       1                      0   \n",
       " 3                  0.760                       0                      0   \n",
       " 4                  0.000                       1                      0   \n",
       " \n",
       "    Marital_Status_Unknown  \n",
       " 0                       0  \n",
       " 1                       0  \n",
       " 2                       0  \n",
       " 3                       1  \n",
       " 4                       0  \n",
       " \n",
       " [5 rows x 23 columns],\n",
       "           CLIENTNUM  Attrition_Flag  Customer_Age        Gender  \\\n",
       " count  1.012700e+04    10127.000000  10127.000000  10127.000000   \n",
       " mean   7.391776e+08        0.839340     46.325960      0.470919   \n",
       " std    3.690378e+07        0.367235      8.016814      0.499178   \n",
       " min    7.080821e+08        0.000000     26.000000      0.000000   \n",
       " 25%    7.130368e+08        1.000000     41.000000      0.000000   \n",
       " 50%    7.179264e+08        1.000000     46.000000      0.000000   \n",
       " 75%    7.731435e+08        1.000000     52.000000      1.000000   \n",
       " max    8.283431e+08        1.000000     73.000000      1.000000   \n",
       " \n",
       "        Dependent_count  Education_Level  Income_Category  Card_Category  \\\n",
       " count     10127.000000     10127.000000     10127.000000   10127.000000   \n",
       " mean          2.346203         2.601955         2.085711       0.083638   \n",
       " std           1.298908         1.700417         1.474639       0.333784   \n",
       " min           0.000000         0.000000         0.000000       0.000000   \n",
       " 25%           1.000000         1.000000         1.000000       0.000000   \n",
       " 50%           2.000000         3.000000         2.000000       0.000000   \n",
       " 75%           3.000000         4.000000         3.000000       0.000000   \n",
       " max           5.000000         6.000000         5.000000       3.000000   \n",
       " \n",
       "        Months_on_book  Total_Relationship_Count  ...  Total_Revolving_Bal  \\\n",
       " count    10127.000000              10127.000000  ...         10127.000000   \n",
       " mean        35.928409                  3.812580  ...          1162.814061   \n",
       " std          7.986416                  1.554408  ...           814.987335   \n",
       " min         13.000000                  1.000000  ...             0.000000   \n",
       " 25%         31.000000                  3.000000  ...           359.000000   \n",
       " 50%         36.000000                  4.000000  ...          1276.000000   \n",
       " 75%         40.000000                  5.000000  ...          1784.000000   \n",
       " max         56.000000                  6.000000  ...          2517.000000   \n",
       " \n",
       "        Avg_Open_To_Buy  Total_Amt_Chng_Q4_Q1  Total_Trans_Amt  Total_Trans_Ct  \\\n",
       " count     10127.000000          10127.000000     10127.000000    10127.000000   \n",
       " mean       7469.139637              0.759941      4404.086304       64.858695   \n",
       " std        9090.685324              0.219207      3397.129254       23.472570   \n",
       " min           3.000000              0.000000       510.000000       10.000000   \n",
       " 25%        1324.500000              0.631000      2155.500000       45.000000   \n",
       " 50%        3474.000000              0.736000      3899.000000       67.000000   \n",
       " 75%        9859.000000              0.859000      4741.000000       81.000000   \n",
       " max       34516.000000              3.397000     18484.000000      139.000000   \n",
       " \n",
       "        Total_Ct_Chng_Q4_Q1  Avg_Utilization_Ratio  Marital_Status_Married  \\\n",
       " count         10127.000000           10127.000000            10127.000000   \n",
       " mean              0.712222               0.274894                0.462822   \n",
       " std               0.238086               0.275691                0.498641   \n",
       " min               0.000000               0.000000                0.000000   \n",
       " 25%               0.582000               0.023000                0.000000   \n",
       " 50%               0.702000               0.176000                0.000000   \n",
       " 75%               0.818000               0.503000                1.000000   \n",
       " max               3.714000               0.999000                1.000000   \n",
       " \n",
       "        Marital_Status_Single  Marital_Status_Unknown  \n",
       " count           10127.000000            10127.000000  \n",
       " mean                0.389355                0.073961  \n",
       " std                 0.487628                0.261720  \n",
       " min                 0.000000                0.000000  \n",
       " 25%                 0.000000                0.000000  \n",
       " 50%                 0.000000                0.000000  \n",
       " 75%                 1.000000                0.000000  \n",
       " max                 1.000000                1.000000  \n",
       " \n",
       " [8 rows x 23 columns],\n",
       " None)"
      ]
     },
     "execution_count": 4,
     "metadata": {},
     "output_type": "execute_result"
    }
   ],
   "source": [
    "df.head(), df.describe(), df.info()"
   ]
  },
  {
   "cell_type": "code",
   "execution_count": 5,
   "metadata": {},
   "outputs": [],
   "source": [
    "# Define the feature matrix X and the target vector y\n",
    "X = df.drop(['CLIENTNUM', 'Attrition_Flag'], axis=1)\n",
    "y = df['Attrition_Flag']\n",
    "\n",
    "# Split the data into training and testing sets\n",
    "X_train, X_test, y_train, y_test = train_test_split(X, y, test_size=0.2, random_state=42)"
   ]
  },
  {
   "cell_type": "code",
   "execution_count": 6,
   "metadata": {},
   "outputs": [
    {
     "name": "stdout",
     "output_type": "stream",
     "text": [
      "\n",
      "Accuracy: 0.8879565646594274\n",
      "\n",
      "Confusion Matrix:\n",
      " Predicted    0     1   All\n",
      "Actual                    \n",
      "0          149   178   327\n",
      "1           49  1650  1699\n",
      "All        198  1828  2026\n",
      "\n",
      "Classification Report:\n",
      "               precision    recall  f1-score   support\n",
      "\n",
      "           0       0.75      0.46      0.57       327\n",
      "           1       0.90      0.97      0.94      1699\n",
      "\n",
      "    accuracy                           0.89      2026\n",
      "   macro avg       0.83      0.71      0.75      2026\n",
      "weighted avg       0.88      0.89      0.88      2026\n",
      "\n",
      "\n",
      "ROC AUC:\n",
      " 0.8990501698246676\n"
     ]
    },
    {
     "name": "stderr",
     "output_type": "stream",
     "text": [
      "c:\\Users\\Nasrin\\AppData\\Local\\Programs\\Python\\Python312\\Lib\\site-packages\\sklearn\\linear_model\\_logistic.py:469: ConvergenceWarning: lbfgs failed to converge (status=1):\n",
      "STOP: TOTAL NO. of ITERATIONS REACHED LIMIT.\n",
      "\n",
      "Increase the number of iterations (max_iter) or scale the data as shown in:\n",
      "    https://scikit-learn.org/stable/modules/preprocessing.html\n",
      "Please also refer to the documentation for alternative solver options:\n",
      "    https://scikit-learn.org/stable/modules/linear_model.html#logistic-regression\n",
      "  n_iter_i = _check_optimize_result(\n"
     ]
    }
   ],
   "source": [
    "\n",
    "# Initialize and fit the logistic regression model\n",
    "logistic_regression = LogisticRegression(random_state=42, max_iter=1000)\n",
    "logistic_regression.fit(X_train, y_train)\n",
    "\n",
    "# Make predictions on the test data\n",
    "y_pred = logistic_regression.predict(X_test)\n",
    "\n",
    "# Evaluate the model\n",
    "accuracy = accuracy_score(y_test, y_pred)\n",
    "conf_matrix = pd.crosstab(y_test, y_pred, rownames=['Actual'], colnames=['Predicted'], margins=True)\n",
    "classification_rep = classification_report(y_test, y_pred)\n",
    "\n",
    "# Calculate FPR, TPR, and Thresholds for ROC curve\n",
    "fpr, tpr, thresholds = roc_curve(y_test, logistic_regression.predict_proba(X_test)[:, 1])\n",
    "roc_auc = auc(fpr, tpr)\n",
    "\n",
    "print(\"\")\n",
    "print(f\"Accuracy: {accuracy}\")\n",
    "print(\"\\nConfusion Matrix:\\n\", conf_matrix)\n",
    "print(\"\\nClassification Report:\\n\", classification_rep)\n",
    "print(\"\\nROC AUC:\\n\", roc_auc)\n"
   ]
  },
  {
   "cell_type": "markdown",
   "metadata": {},
   "source": [
    "###### Logistic regression\n",
    "- Accuracy: 88.20%\n",
    "- ROC AUC: 89.26% (This metric shows the capability of the model to distinguish between the classes).\n",
    "\n",
    "###### Confusion Matrix\n",
    "This table shows that out of the customers who did not churn (Actual 0), 149 were correctly classified as not churning, but 178 were incorrectly classified as churning. For the customers who did churn (Actual 1), 1650 were correctly identified, with 49 incorrectly labeled as not churning.\n",
    "\n",
    "###### Classification report\n",
    "Precision for class 0 (non-churners) is 0.75, which is decent, indicating that when the model predicts a customer won't churn, it's correct about 75% of the time.\n",
    "Recall for class 0 is 0.46, suggesting the model struggles with identifying all true non-churn cases.\n",
    "For class 1 (churners), precision is high at 0.90, and recall is also very high at 0.97, indicating the model is highly effective at identifying churners."
   ]
  },
  {
   "cell_type": "code",
   "execution_count": 7,
   "metadata": {},
   "outputs": [
    {
     "data": {
      "image/png": "[encoded data removed]",
      "text/plain": [
       "<Figure size 800x600 with 1 Axes>"
      ]
     },
     "metadata": {},
     "output_type": "display_data"
    }
   ],
   "source": [
    "# Plot the ROC curve\n",
    "plt.figure(figsize=(8, 6))\n",
    "plt.plot(fpr, tpr, color='darkorange', lw=2, label=f'ROC curve (area = {roc_auc:.2f})')\n",
    "plt.plot([0, 1], [0, 1], color='blue', lw=2, linestyle='--')\n",
    "plt.xlim([0.0, 1.0])\n",
    "plt.ylim([0.0, 1.05])\n",
    "plt.xlabel('False Positive Rate')\n",
    "plt.ylabel('True Positive Rate')\n",
    "plt.title('Receiver Operating Characteristic')\n",
    "plt.legend(loc=\"lower right\")\n",
    "plt.show()"
   ]
  }
 ],
 "metadata": {
  "kernelspec": {
   "display_name": "Python 3",
   "language": "python",
   "name": "python3"
  },
  "language_info": {
   "codemirror_mode": {
    "name": "ipython",
    "version": 3
   },
   "file_extension": ".py",
   "mimetype": "text/x-python",
   "name": "python",
   "nbconvert_exporter": "python",
   "pygments_lexer": "ipython3",
   "version": "3.12.1"
  }
 },
 "nbformat": 4,
 "nbformat_minor": 2
}
